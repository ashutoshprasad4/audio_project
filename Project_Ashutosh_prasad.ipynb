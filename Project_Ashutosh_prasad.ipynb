{
  "nbformat": 4,
  "nbformat_minor": 0,
  "metadata": {
    "colab": {
      "provenance": []
    },
    "kernelspec": {
      "name": "python3",
      "display_name": "Python 3"
    },
    "language_info": {
      "name": "python"
    }
  },
  "cells": [
    {
      "cell_type": "code",
      "source": [
        "!unzip /content/audi_sam.zip"
      ],
      "metadata": {
        "colab": {
          "base_uri": "https://localhost:8080/"
        },
        "id": "3Z60VYVg5DUj",
        "outputId": "e269e49e-ab2d-429c-df2d-c5a9d53a4283"
      },
      "execution_count": 1,
      "outputs": [
        {
          "output_type": "stream",
          "name": "stdout",
          "text": [
            "Archive:  /content/audi_sam.zip\n",
            "replace audi_sam/sample-000001.mp3? [y]es, [n]o, [A]ll, [N]one, [r]ename: "
          ]
        }
      ]
    },
    {
      "cell_type": "code",
      "execution_count": 2,
      "metadata": {
        "colab": {
          "base_uri": "https://localhost:8080/"
        },
        "collapsed": true,
        "id": "8oeRguVIXkrJ",
        "outputId": "b2645b25-84ea-4d9e-83f1-90f0963e59bb"
      },
      "outputs": [
        {
          "output_type": "stream",
          "name": "stdout",
          "text": [
            "N\n",
            "Requirement already satisfied: numpy==1.23.5 in /usr/local/lib/python3.11/dist-packages (1.23.5)\n",
            "Requirement already satisfied: librosa==0.10.0.post2 in /usr/local/lib/python3.11/dist-packages (0.10.0.post2)\n",
            "Requirement already satisfied: audioread>=2.1.9 in /usr/local/lib/python3.11/dist-packages (from librosa==0.10.0.post2) (3.0.1)\n",
            "Requirement already satisfied: numpy!=1.22.0,!=1.22.1,!=1.22.2,>=1.20.3 in /usr/local/lib/python3.11/dist-packages (from librosa==0.10.0.post2) (1.23.5)\n",
            "Requirement already satisfied: scipy>=1.2.0 in /usr/local/lib/python3.11/dist-packages (from librosa==0.10.0.post2) (1.14.1)\n",
            "Requirement already satisfied: scikit-learn>=0.20.0 in /usr/local/lib/python3.11/dist-packages (from librosa==0.10.0.post2) (1.6.1)\n",
            "Requirement already satisfied: joblib>=0.14 in /usr/local/lib/python3.11/dist-packages (from librosa==0.10.0.post2) (1.4.2)\n",
            "Requirement already satisfied: decorator>=4.3.0 in /usr/local/lib/python3.11/dist-packages (from librosa==0.10.0.post2) (4.4.2)\n",
            "Requirement already satisfied: numba>=0.51.0 in /usr/local/lib/python3.11/dist-packages (from librosa==0.10.0.post2) (0.60.0)\n",
            "Requirement already satisfied: soundfile>=0.12.1 in /usr/local/lib/python3.11/dist-packages (from librosa==0.10.0.post2) (0.13.1)\n",
            "Requirement already satisfied: pooch<1.7,>=1.0 in /usr/local/lib/python3.11/dist-packages (from librosa==0.10.0.post2) (1.6.0)\n",
            "Requirement already satisfied: soxr>=0.3.2 in /usr/local/lib/python3.11/dist-packages (from librosa==0.10.0.post2) (0.5.0.post1)\n",
            "Requirement already satisfied: typing-extensions>=4.1.1 in /usr/local/lib/python3.11/dist-packages (from librosa==0.10.0.post2) (4.13.1)\n",
            "Requirement already satisfied: lazy-loader>=0.1 in /usr/local/lib/python3.11/dist-packages (from librosa==0.10.0.post2) (0.4)\n",
            "Requirement already satisfied: msgpack>=1.0 in /usr/local/lib/python3.11/dist-packages (from librosa==0.10.0.post2) (1.1.0)\n",
            "Requirement already satisfied: packaging in /usr/local/lib/python3.11/dist-packages (from lazy-loader>=0.1->librosa==0.10.0.post2) (24.2)\n",
            "Requirement already satisfied: llvmlite<0.44,>=0.43.0dev0 in /usr/local/lib/python3.11/dist-packages (from numba>=0.51.0->librosa==0.10.0.post2) (0.43.0)\n",
            "Requirement already satisfied: appdirs>=1.3.0 in /usr/local/lib/python3.11/dist-packages (from pooch<1.7,>=1.0->librosa==0.10.0.post2) (1.4.4)\n",
            "Requirement already satisfied: requests>=2.19.0 in /usr/local/lib/python3.11/dist-packages (from pooch<1.7,>=1.0->librosa==0.10.0.post2) (2.32.3)\n",
            "Requirement already satisfied: threadpoolctl>=3.1.0 in /usr/local/lib/python3.11/dist-packages (from scikit-learn>=0.20.0->librosa==0.10.0.post2) (3.6.0)\n",
            "Requirement already satisfied: cffi>=1.0 in /usr/local/lib/python3.11/dist-packages (from soundfile>=0.12.1->librosa==0.10.0.post2) (1.17.1)\n",
            "Requirement already satisfied: pycparser in /usr/local/lib/python3.11/dist-packages (from cffi>=1.0->soundfile>=0.12.1->librosa==0.10.0.post2) (2.22)\n",
            "Requirement already satisfied: charset-normalizer<4,>=2 in /usr/local/lib/python3.11/dist-packages (from requests>=2.19.0->pooch<1.7,>=1.0->librosa==0.10.0.post2) (3.4.1)\n",
            "Requirement already satisfied: idna<4,>=2.5 in /usr/local/lib/python3.11/dist-packages (from requests>=2.19.0->pooch<1.7,>=1.0->librosa==0.10.0.post2) (3.10)\n",
            "Requirement already satisfied: urllib3<3,>=1.21.1 in /usr/local/lib/python3.11/dist-packages (from requests>=2.19.0->pooch<1.7,>=1.0->librosa==0.10.0.post2) (2.3.0)\n",
            "Requirement already satisfied: certifi>=2017.4.17 in /usr/local/lib/python3.11/dist-packages (from requests>=2.19.0->pooch<1.7,>=1.0->librosa==0.10.0.post2) (2025.1.31)\n",
            "Requirement already satisfied: SpeechRecognition in /usr/local/lib/python3.11/dist-packages (3.14.2)\n",
            "Requirement already satisfied: typing-extensions in /usr/local/lib/python3.11/dist-packages (from SpeechRecognition) (4.13.1)\n",
            "Requirement already satisfied: nltk in /usr/local/lib/python3.11/dist-packages (3.9.1)\n",
            "Requirement already satisfied: click in /usr/local/lib/python3.11/dist-packages (from nltk) (8.1.8)\n",
            "Requirement already satisfied: joblib in /usr/local/lib/python3.11/dist-packages (from nltk) (1.4.2)\n",
            "Requirement already satisfied: regex>=2021.8.3 in /usr/local/lib/python3.11/dist-packages (from nltk) (2024.11.6)\n",
            "Requirement already satisfied: tqdm in /usr/local/lib/python3.11/dist-packages (from nltk) (4.67.1)\n",
            "Requirement already satisfied: praat-parselmouth in /usr/local/lib/python3.11/dist-packages (0.4.5)\n",
            "Requirement already satisfied: numpy>=1.7.0 in /usr/local/lib/python3.11/dist-packages (from praat-parselmouth) (1.23.5)\n"
          ]
        }
      ],
      "source": [
        "!pip install openai-whisper pydub librosa matplotlib scikit-learn\n",
        "\n",
        "!pip install numpy==1.23.5\n",
        "!pip install librosa==0.10.0.post2\n",
        "!pip install SpeechRecognition\n",
        "!pip install nltk\n",
        "!pip install praat-parselmouth\n",
        "\n",
        "\n"
      ]
    },
    {
      "cell_type": "code",
      "source": [
        "\n",
        "import nltk\n",
        "nltk.download('punkt')\n",
        "nltk.download('punkt_tab')"
      ],
      "metadata": {
        "colab": {
          "base_uri": "https://localhost:8080/"
        },
        "id": "uxfthCx64who",
        "outputId": "dffac236-7242-4502-d2aa-3d02b988516f"
      },
      "execution_count": 3,
      "outputs": [
        {
          "output_type": "stream",
          "name": "stderr",
          "text": [
            "[nltk_data] Downloading package punkt to /root/nltk_data...\n",
            "[nltk_data]   Unzipping tokenizers/punkt.zip.\n",
            "[nltk_data] Downloading package punkt_tab to /root/nltk_data...\n",
            "[nltk_data]   Unzipping tokenizers/punkt_tab.zip.\n"
          ]
        },
        {
          "output_type": "execute_result",
          "data": {
            "text/plain": [
              "True"
            ]
          },
          "metadata": {},
          "execution_count": 3
        }
      ]
    },
    {
      "cell_type": "code",
      "source": [
        "import os\n",
        "import numpy as np\n",
        "import librosa\n",
        "import whisper\n",
        "import matplotlib.pyplot as plt\n",
        "import speech_recognition as sr\n",
        "import parselmouth\n",
        "import nltk\n",
        "from nltk.tokenize import sent_tokenize, word_tokenize\n",
        "nltk.download('punkt')\n",
        "\n",
        "from pydub import AudioSegment, silence\n",
        "from sklearn.preprocessing import StandardScaler\n",
        "from sklearn.cluster import KMeans\n",
        "from sklearn.decomposition import PCA"
      ],
      "metadata": {
        "colab": {
          "base_uri": "https://localhost:8080/"
        },
        "id": "smJNn0IcYcUb",
        "outputId": "f2a90c3e-7f9b-4dde-f44c-5082c399c4a3"
      },
      "execution_count": 4,
      "outputs": [
        {
          "output_type": "stream",
          "name": "stderr",
          "text": [
            "[nltk_data] Downloading package punkt to /root/nltk_data...\n",
            "[nltk_data]   Package punkt is already up-to-date!\n"
          ]
        }
      ]
    },
    {
      "cell_type": "code",
      "source": [
        "from google.colab import files\n",
        "\n",
        "uploaded = files.upload()\n",
        "audio_files = list(uploaded.keys())\n"
      ],
      "metadata": {
        "colab": {
          "base_uri": "https://localhost:8080/",
          "height": 385
        },
        "collapsed": true,
        "id": "4gKnOE8nYkjD",
        "outputId": "8c92fd7e-59b5-46a6-e759-ee497a3ae2a6"
      },
      "execution_count": 5,
      "outputs": [
        {
          "output_type": "display_data",
          "data": {
            "text/plain": [
              "<IPython.core.display.HTML object>"
            ],
            "text/html": [
              "\n",
              "     <input type=\"file\" id=\"files-6f3c69c9-2c15-4b9b-8ad3-c18a4d84bfd9\" name=\"files[]\" multiple disabled\n",
              "        style=\"border:none\" />\n",
              "     <output id=\"result-6f3c69c9-2c15-4b9b-8ad3-c18a4d84bfd9\">\n",
              "      Upload widget is only available when the cell has been executed in the\n",
              "      current browser session. Please rerun this cell to enable.\n",
              "      </output>\n",
              "      <script>// Copyright 2017 Google LLC\n",
              "//\n",
              "// Licensed under the Apache License, Version 2.0 (the \"License\");\n",
              "// you may not use this file except in compliance with the License.\n",
              "// You may obtain a copy of the License at\n",
              "//\n",
              "//      http://www.apache.org/licenses/LICENSE-2.0\n",
              "//\n",
              "// Unless required by applicable law or agreed to in writing, software\n",
              "// distributed under the License is distributed on an \"AS IS\" BASIS,\n",
              "// WITHOUT WARRANTIES OR CONDITIONS OF ANY KIND, either express or implied.\n",
              "// See the License for the specific language governing permissions and\n",
              "// limitations under the License.\n",
              "\n",
              "/**\n",
              " * @fileoverview Helpers for google.colab Python module.\n",
              " */\n",
              "(function(scope) {\n",
              "function span(text, styleAttributes = {}) {\n",
              "  const element = document.createElement('span');\n",
              "  element.textContent = text;\n",
              "  for (const key of Object.keys(styleAttributes)) {\n",
              "    element.style[key] = styleAttributes[key];\n",
              "  }\n",
              "  return element;\n",
              "}\n",
              "\n",
              "// Max number of bytes which will be uploaded at a time.\n",
              "const MAX_PAYLOAD_SIZE = 100 * 1024;\n",
              "\n",
              "function _uploadFiles(inputId, outputId) {\n",
              "  const steps = uploadFilesStep(inputId, outputId);\n",
              "  const outputElement = document.getElementById(outputId);\n",
              "  // Cache steps on the outputElement to make it available for the next call\n",
              "  // to uploadFilesContinue from Python.\n",
              "  outputElement.steps = steps;\n",
              "\n",
              "  return _uploadFilesContinue(outputId);\n",
              "}\n",
              "\n",
              "// This is roughly an async generator (not supported in the browser yet),\n",
              "// where there are multiple asynchronous steps and the Python side is going\n",
              "// to poll for completion of each step.\n",
              "// This uses a Promise to block the python side on completion of each step,\n",
              "// then passes the result of the previous step as the input to the next step.\n",
              "function _uploadFilesContinue(outputId) {\n",
              "  const outputElement = document.getElementById(outputId);\n",
              "  const steps = outputElement.steps;\n",
              "\n",
              "  const next = steps.next(outputElement.lastPromiseValue);\n",
              "  return Promise.resolve(next.value.promise).then((value) => {\n",
              "    // Cache the last promise value to make it available to the next\n",
              "    // step of the generator.\n",
              "    outputElement.lastPromiseValue = value;\n",
              "    return next.value.response;\n",
              "  });\n",
              "}\n",
              "\n",
              "/**\n",
              " * Generator function which is called between each async step of the upload\n",
              " * process.\n",
              " * @param {string} inputId Element ID of the input file picker element.\n",
              " * @param {string} outputId Element ID of the output display.\n",
              " * @return {!Iterable<!Object>} Iterable of next steps.\n",
              " */\n",
              "function* uploadFilesStep(inputId, outputId) {\n",
              "  const inputElement = document.getElementById(inputId);\n",
              "  inputElement.disabled = false;\n",
              "\n",
              "  const outputElement = document.getElementById(outputId);\n",
              "  outputElement.innerHTML = '';\n",
              "\n",
              "  const pickedPromise = new Promise((resolve) => {\n",
              "    inputElement.addEventListener('change', (e) => {\n",
              "      resolve(e.target.files);\n",
              "    });\n",
              "  });\n",
              "\n",
              "  const cancel = document.createElement('button');\n",
              "  inputElement.parentElement.appendChild(cancel);\n",
              "  cancel.textContent = 'Cancel upload';\n",
              "  const cancelPromise = new Promise((resolve) => {\n",
              "    cancel.onclick = () => {\n",
              "      resolve(null);\n",
              "    };\n",
              "  });\n",
              "\n",
              "  // Wait for the user to pick the files.\n",
              "  const files = yield {\n",
              "    promise: Promise.race([pickedPromise, cancelPromise]),\n",
              "    response: {\n",
              "      action: 'starting',\n",
              "    }\n",
              "  };\n",
              "\n",
              "  cancel.remove();\n",
              "\n",
              "  // Disable the input element since further picks are not allowed.\n",
              "  inputElement.disabled = true;\n",
              "\n",
              "  if (!files) {\n",
              "    return {\n",
              "      response: {\n",
              "        action: 'complete',\n",
              "      }\n",
              "    };\n",
              "  }\n",
              "\n",
              "  for (const file of files) {\n",
              "    const li = document.createElement('li');\n",
              "    li.append(span(file.name, {fontWeight: 'bold'}));\n",
              "    li.append(span(\n",
              "        `(${file.type || 'n/a'}) - ${file.size} bytes, ` +\n",
              "        `last modified: ${\n",
              "            file.lastModifiedDate ? file.lastModifiedDate.toLocaleDateString() :\n",
              "                                    'n/a'} - `));\n",
              "    const percent = span('0% done');\n",
              "    li.appendChild(percent);\n",
              "\n",
              "    outputElement.appendChild(li);\n",
              "\n",
              "    const fileDataPromise = new Promise((resolve) => {\n",
              "      const reader = new FileReader();\n",
              "      reader.onload = (e) => {\n",
              "        resolve(e.target.result);\n",
              "      };\n",
              "      reader.readAsArrayBuffer(file);\n",
              "    });\n",
              "    // Wait for the data to be ready.\n",
              "    let fileData = yield {\n",
              "      promise: fileDataPromise,\n",
              "      response: {\n",
              "        action: 'continue',\n",
              "      }\n",
              "    };\n",
              "\n",
              "    // Use a chunked sending to avoid message size limits. See b/62115660.\n",
              "    let position = 0;\n",
              "    do {\n",
              "      const length = Math.min(fileData.byteLength - position, MAX_PAYLOAD_SIZE);\n",
              "      const chunk = new Uint8Array(fileData, position, length);\n",
              "      position += length;\n",
              "\n",
              "      const base64 = btoa(String.fromCharCode.apply(null, chunk));\n",
              "      yield {\n",
              "        response: {\n",
              "          action: 'append',\n",
              "          file: file.name,\n",
              "          data: base64,\n",
              "        },\n",
              "      };\n",
              "\n",
              "      let percentDone = fileData.byteLength === 0 ?\n",
              "          100 :\n",
              "          Math.round((position / fileData.byteLength) * 100);\n",
              "      percent.textContent = `${percentDone}% done`;\n",
              "\n",
              "    } while (position < fileData.byteLength);\n",
              "  }\n",
              "\n",
              "  // All done.\n",
              "  yield {\n",
              "    response: {\n",
              "      action: 'complete',\n",
              "    }\n",
              "  };\n",
              "}\n",
              "\n",
              "scope.google = scope.google || {};\n",
              "scope.google.colab = scope.google.colab || {};\n",
              "scope.google.colab._files = {\n",
              "  _uploadFiles,\n",
              "  _uploadFilesContinue,\n",
              "};\n",
              "})(self);\n",
              "</script> "
            ]
          },
          "metadata": {}
        },
        {
          "output_type": "stream",
          "name": "stdout",
          "text": [
            "Saving sample-000029 (1).mp3 to sample-000029 (1).mp3\n",
            "Saving sample-000119.mp3 to sample-000119.mp3\n",
            "Saving sample-000076.mp3 to sample-000076.mp3\n",
            "Saving sample-000058.mp3 to sample-000058.mp3\n",
            "Saving sample-000039.mp3 to sample-000039.mp3\n",
            "Saving sample-000029.mp3 to sample-000029.mp3\n",
            "Saving sample-000028.mp3 to sample-000028.mp3\n",
            "Saving sample-000003.mp3 to sample-000003.mp3\n",
            "Saving sample-000014.mp3 to sample-000014.mp3\n",
            "Saving sample-000001.mp3 to sample-000001.mp3\n"
          ]
        }
      ]
    },
    {
      "cell_type": "code",
      "source": [
        "from pydub import AudioSegment\n",
        "import os\n",
        "import subprocess\n",
        "import sys\n",
        "\n",
        "subprocess.call(['apt-get', 'install', '-y', 'ffmpeg'])\n",
        "subprocess.call([sys.executable, '-m', 'pip', 'install', 'pydub'])\n",
        "\n",
        "converted_files = []\n",
        "for file in uploaded:\n",
        "    if not file.lower().endswith('.wav'):\n",
        "        audio = AudioSegment.from_file(file)\n",
        "        output = os.path.splitext(file)[0] + \".wav\"\n",
        "        audio.export(output, format=\"wav\")\n",
        "        converted_files.append(output)\n",
        "    else:\n",
        "        converted_files.append(file)\n",
        "\n",
        "audio_files = converted_files\n"
      ],
      "metadata": {
        "colab": {
          "base_uri": "https://localhost:8080/"
        },
        "id": "nIQRed-G4OJJ",
        "outputId": "cf5971a3-c25d-4aea-9b20-d043522ef6d9"
      },
      "execution_count": 6,
      "outputs": [
        {
          "output_type": "stream",
          "name": "stdout",
          "text": [
            "Reading package lists... Done\n",
            "Building dependency tree... Done\n",
            "Reading state information... Done\n",
            "ffmpeg is already the newest version (7:4.4.2-0ubuntu0.22.04.1).\n",
            "0 upgraded, 0 newly installed, 0 to remove and 30 not upgraded.\n",
            "Requirement already satisfied: pydub in /usr/local/lib/python3.11/dist-packages (0.25.1)\n"
          ]
        }
      ]
    },
    {
      "cell_type": "code",
      "source": [
        "model = whisper.load_model(\"base\")\n",
        "\n",
        "def transcribe_audio(file_path):\n",
        "    result = model.transcribe(file_path)\n",
        "    return result[\"text\"]\n",
        "\n",
        "transcripts = {file: transcribe_audio(file) for file in audio_files}\n"
      ],
      "metadata": {
        "colab": {
          "base_uri": "https://localhost:8080/"
        },
        "id": "THj9GurndvI8",
        "outputId": "c274a70d-c27e-40e7-afb7-859ab85146c6"
      },
      "execution_count": 7,
      "outputs": [
        {
          "output_type": "stream",
          "name": "stderr",
          "text": [
            "100%|███████████████████████████████████████| 139M/139M [00:01<00:00, 95.5MiB/s]\n",
            "/usr/local/lib/python3.11/dist-packages/whisper/transcribe.py:126: UserWarning: FP16 is not supported on CPU; using FP32 instead\n",
            "  warnings.warn(\"FP16 is not supported on CPU; using FP32 instead\")\n",
            "/usr/local/lib/python3.11/dist-packages/whisper/transcribe.py:126: UserWarning: FP16 is not supported on CPU; using FP32 instead\n",
            "  warnings.warn(\"FP16 is not supported on CPU; using FP32 instead\")\n",
            "/usr/local/lib/python3.11/dist-packages/whisper/transcribe.py:126: UserWarning: FP16 is not supported on CPU; using FP32 instead\n",
            "  warnings.warn(\"FP16 is not supported on CPU; using FP32 instead\")\n",
            "/usr/local/lib/python3.11/dist-packages/whisper/transcribe.py:126: UserWarning: FP16 is not supported on CPU; using FP32 instead\n",
            "  warnings.warn(\"FP16 is not supported on CPU; using FP32 instead\")\n",
            "/usr/local/lib/python3.11/dist-packages/whisper/transcribe.py:126: UserWarning: FP16 is not supported on CPU; using FP32 instead\n",
            "  warnings.warn(\"FP16 is not supported on CPU; using FP32 instead\")\n",
            "/usr/local/lib/python3.11/dist-packages/whisper/transcribe.py:126: UserWarning: FP16 is not supported on CPU; using FP32 instead\n",
            "  warnings.warn(\"FP16 is not supported on CPU; using FP32 instead\")\n",
            "/usr/local/lib/python3.11/dist-packages/whisper/transcribe.py:126: UserWarning: FP16 is not supported on CPU; using FP32 instead\n",
            "  warnings.warn(\"FP16 is not supported on CPU; using FP32 instead\")\n",
            "/usr/local/lib/python3.11/dist-packages/whisper/transcribe.py:126: UserWarning: FP16 is not supported on CPU; using FP32 instead\n",
            "  warnings.warn(\"FP16 is not supported on CPU; using FP32 instead\")\n",
            "/usr/local/lib/python3.11/dist-packages/whisper/transcribe.py:126: UserWarning: FP16 is not supported on CPU; using FP32 instead\n",
            "  warnings.warn(\"FP16 is not supported on CPU; using FP32 instead\")\n",
            "/usr/local/lib/python3.11/dist-packages/whisper/transcribe.py:126: UserWarning: FP16 is not supported on CPU; using FP32 instead\n",
            "  warnings.warn(\"FP16 is not supported on CPU; using FP32 instead\")\n"
          ]
        }
      ]
    },
    {
      "cell_type": "code",
      "source": [
        "HESITATION_MARKERS = [\n",
        "    'uh', 'um', 'erm', 'ah', 'eh', 'hmm', 'mm', 'uhh', 'umm', 'like', 'you know', 'well', 'so'\n",
        "]\n",
        "\n",
        "COMMON_SUBSTITUTIONS = [\n",
        "    'thing', 'stuff', 'that', 'you know', 'whatever', 'something', 'somehow', 'somewhere',\n",
        "    'kinda', 'sorta', 'maybe', 'possibly', 'probably', 'thingy', 'whatchamacallit', 'doohickey',\n",
        "    'thingamajig', 'thingamabob'\n",
        "]\n",
        "INCOMPLETE_ENDINGS = [\n",
        "    'and', 'but', 'so', 'because', 'if', 'when', 'while', 'though',\n",
        "    'although', 'unless', 'until', 'as', 'since', 'whereas', 'even though'\n",
        "]\n",
        "\n",
        "\n",
        "def extract_speech_features(audio_path):\n",
        "    y, sr_rate = librosa.load(audio_path, sr=None)\n",
        "    duration = librosa.get_duration(y=y, sr=sr_rate)\n",
        "\n",
        "    snd = parselmouth.Sound(audio_path)\n",
        "    pitch = snd.to_pitch()\n",
        "    pitch_values = pitch.selected_array['frequency']\n",
        "    pitch_values = pitch_values[pitch_values > 0]\n",
        "    pitch_std = np.std(pitch_values) if pitch_values.size > 0 else 0\n",
        "\n",
        "    recognizer = sr.Recognizer()\n",
        "    try:\n",
        "        with sr.AudioFile(audio_path) as source:\n",
        "            audio_data = recognizer.record(source)\n",
        "            text = recognizer.recognize_google(audio_data)\n",
        "    except:\n",
        "        text = \"\"\n",
        "\n",
        "    sentences = sent_tokenize(text)\n",
        "    words = word_tokenize(text.lower())\n",
        "\n",
        "    pauses = librosa.effects.split(y, top_db=30)\n",
        "    pause_durations = [\n",
        "        (pauses[i][0] - pauses[i - 1][1]) / sr_rate\n",
        "        for i in range(1, len(pauses))\n",
        "    ]\n",
        "    avg_pauses = len(pause_durations) / len(sentences) if sentences else 0\n",
        "\n",
        "    hesitation_count = sum(words.count(h) for h in HESITATION_MARKERS)\n",
        "    substitution_count = sum(words.count(w) for w in COMMON_SUBSTITUTIONS)\n",
        "    speech_rate = (len(words) / duration) * 60 if duration > 0 else 0\n",
        "    incomplete_sentences = sum(\n",
        "        s.strip().lower().endswith(t) for s in sentences for t in INCOMPLETE_ENDINGS\n",
        "    )\n",
        "\n",
        "    return {\n",
        "        \"text\": text,\n",
        "        \"pauses_per_sentence\": avg_pauses,\n",
        "        \"hesitation_count\": hesitation_count,\n",
        "        \"substitution_count\": substitution_count,\n",
        "        \"speech_rate\": speech_rate,\n",
        "        \"pitch_std\": pitch_std,\n",
        "        \"incomplete_sentences\": incomplete_sentences\n",
        "    }"
      ],
      "metadata": {
        "id": "96QWuBFPe0OE"
      },
      "execution_count": 12,
      "outputs": []
    },
    {
      "cell_type": "code",
      "source": [
        "from pydub import AudioSegment\n",
        "import os\n",
        "\n",
        "converted_files = []\n",
        "\n",
        "for audio_path in audio_files[:]:\n",
        "    ext = os.path.splitext(audio_path)[1].lower()\n",
        "    if ext not in ['.wav', '.aiff', '.aifc', '.flac']:\n",
        "        audio = AudioSegment.from_file(audio_path, format=\"mp3\")\n",
        "        wav_path = audio_path.rsplit('.', 1)[0] + \".wav\"\n",
        "        audio.export(wav_path, format=\"wav\")\n",
        "\n",
        "        audio_files.remove(audio_path)\n",
        "        converted_files.append(wav_path)\n",
        "\n",
        "audio_files.extend(converted_files)\n"
      ],
      "metadata": {
        "id": "lWQGfwjfe7CU"
      },
      "execution_count": 13,
      "outputs": []
    },
    {
      "cell_type": "code",
      "source": [
        "from sklearn.preprocessing import StandardScaler\n",
        "from sklearn.cluster import KMeans\n",
        "import numpy as np\n",
        "\n",
        "feature_data = [extract_speech_features(path) for path in audio_files]\n",
        "\n",
        "if len(feature_data) > 1:\n",
        "    feature_matrix = np.array([list(data.values())[1:] for data in feature_data])\n",
        "    normalized_data = StandardScaler().fit_transform(feature_matrix)\n",
        "\n",
        "    model = KMeans(n_clusters=2, random_state=42)\n",
        "    cluster_assignments = model.fit_predict(normalized_data)\n",
        "\n",
        "    for i, path in enumerate(audio_files):\n",
        "        print(f\"{path}: Assigned to Cluster {cluster_assignments[i]}\")\n",
        "else:\n",
        "    print(\"Clustering requires at least two audio inputs.\")\n"
      ],
      "metadata": {
        "colab": {
          "base_uri": "https://localhost:8080/"
        },
        "id": "nNlVtFJbfWPi",
        "outputId": "52e7e65b-5f6d-4121-b3ae-5f8db6e88a4a"
      },
      "execution_count": 14,
      "outputs": [
        {
          "output_type": "stream",
          "name": "stdout",
          "text": [
            "sample-000029 (1).wav: Assigned to Cluster 0\n",
            "sample-000119.wav: Assigned to Cluster 0\n",
            "sample-000076.wav: Assigned to Cluster 0\n",
            "sample-000058.wav: Assigned to Cluster 0\n",
            "sample-000039.wav: Assigned to Cluster 1\n",
            "sample-000029.wav: Assigned to Cluster 1\n",
            "sample-000028.wav: Assigned to Cluster 1\n",
            "sample-000003.wav: Assigned to Cluster 0\n",
            "sample-000014.wav: Assigned to Cluster 0\n",
            "sample-000001.wav: Assigned to Cluster 1\n"
          ]
        }
      ]
    },
    {
      "cell_type": "code",
      "source": [
        "from sklearn.cluster import KMeans\n",
        "from sklearn.preprocessing import StandardScaler\n",
        "from sklearn.decomposition import PCA\n",
        "import matplotlib.pyplot as plt\n",
        "import numpy as np\n",
        "\n",
        "speech_data = [extract_speech_features(audio) for audio in audio_files]\n",
        "\n",
        "if len(speech_data) > 1:\n",
        "    feature_vectors = np.array([list(data.values())[1:] for data in speech_data])\n",
        "\n",
        "    scaler = StandardScaler()\n",
        "    normalized_features = scaler.fit_transform(feature_vectors)\n",
        "\n",
        "    kmeans_model = KMeans(n_clusters=2, random_state=42)\n",
        "    cluster_labels = kmeans_model.fit_predict(normalized_features)\n",
        "\n",
        "    for index, name in enumerate(audio_files):\n",
        "        print(f\"{name}: belongs to Cluster {cluster_labels[index]}\")\n",
        "\n",
        "    pca_model = PCA(n_components=2)\n",
        "    reduced_features = pca_model.fit_transform(normalized_features)\n",
        "\n",
        "    plt.figure(figsize=(8, 6))\n",
        "    plt.scatter(reduced_features[:, 0], reduced_features[:, 1], c=cluster_labels, cmap='coolwarm', s=100)\n",
        "\n",
        "    for i, name in enumerate(audio_files):\n",
        "        plt.annotate(name, (reduced_features[i, 0], reduced_features[i, 1]))\n",
        "\n",
        "    plt.title(\"Speech Pattern Clustering\")\n",
        "    plt.xlabel(\"Principal Component 1\")\n",
        "    plt.ylabel(\"Principal Component 2\")\n",
        "    plt.grid(True)\n",
        "    plt.show()\n",
        "else:\n",
        "    print(\"Insufficient audio files: at least two are required for clustering and PCA.\")\n"
      ],
      "metadata": {
        "colab": {
          "base_uri": "https://localhost:8080/",
          "height": 738
        },
        "id": "522ksau2hx6S",
        "outputId": "231dc926-f2ef-413b-cdc4-bd12a64d5eb7"
      },
      "execution_count": 15,
      "outputs": [
        {
          "output_type": "stream",
          "name": "stdout",
          "text": [
            "sample-000029 (1).wav: belongs to Cluster 0\n",
            "sample-000119.wav: belongs to Cluster 0\n",
            "sample-000076.wav: belongs to Cluster 0\n",
            "sample-000058.wav: belongs to Cluster 0\n",
            "sample-000039.wav: belongs to Cluster 1\n",
            "sample-000029.wav: belongs to Cluster 1\n",
            "sample-000028.wav: belongs to Cluster 1\n",
            "sample-000003.wav: belongs to Cluster 0\n",
            "sample-000014.wav: belongs to Cluster 0\n",
            "sample-000001.wav: belongs to Cluster 1\n"
          ]
        },
        {
          "output_type": "display_data",
          "data": {
            "text/plain": [
              "<Figure size 800x600 with 1 Axes>"
            ],
            "image/png": "[encoded data removed]"
          },
          "metadata": {}
        }
      ]
    },
    {
      "cell_type": "code",
      "source": [],
      "metadata": {
        "id": "0s0FgGyi_it5"
      },
      "execution_count": null,
      "outputs": []
    }
  ]
}